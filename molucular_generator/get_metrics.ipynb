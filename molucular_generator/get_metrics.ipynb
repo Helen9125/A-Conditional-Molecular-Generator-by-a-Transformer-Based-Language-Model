{
  "cells": [
    {
      "cell_type": "code",
      "execution_count": null,
      "id": "5d6baf76-d06f-4306-a670-6f33086bc059",
      "metadata": {
        "id": "5d6baf76-d06f-4306-a670-6f33086bc059"
      },
      "outputs": [],
      "source": [
        "import pandas as pd\n",
        "import argparse\n",
        "import rdkit\n",
        "\n",
        "from rdkit.Chem.Fingerprints import FingerprintMols\n",
        "from rdkit.DataStructs.cDataStructs import TanimotoSimilarity\n",
        "from rdkit.Chem.Scaffolds.MurckoScaffold import MurckoScaffoldSmiles\n",
        "from rdkit import Chem"
      ]
    },
    {
      "cell_type": "code",
      "execution_count": null,
      "id": "e7286af2-984b-46b7-9bcc-0773a0f6eed6",
      "metadata": {
        "id": "e7286af2-984b-46b7-9bcc-0773a0f6eed6",
        "outputId": "752625b3-5a57-41c4-e15a-bebc116e973b"
      },
      "outputs": [
        {
          "data": {
            "text/plain": [
              "'2023.03.3'"
            ]
          },
          "execution_count": 2,
          "metadata": {},
          "output_type": "execute_result"
        }
      ],
      "source": [
        "rdkit.__version__"
      ]
    },
    {
      "cell_type": "code",
      "execution_count": null,
      "id": "8c1b10ff-c4ac-4131-85d0-b1fc7eb7d3bb",
      "metadata": {
        "id": "8c1b10ff-c4ac-4131-85d0-b1fc7eb7d3bb"
      },
      "outputs": [],
      "source": [
        "#from molgpt\n",
        "def check_novelty(gen_smiles, train_smiles): # gen: say 788, train: 120803\n",
        "    if len(gen_smiles) == 0:\n",
        "        novel_ratio = 0.\n",
        "    else:\n",
        "        duplicates = [1 for mol in gen_smiles if mol in train_smiles]  # [1]*45\n",
        "        novel = len(gen_smiles) - sum(duplicates)  # 788-45=743\n",
        "        novel_ratio = novel*100./len(gen_smiles)  # 743*100/788=94.289\n",
        "    print(\"novelty: {:.3f}%\".format(novel_ratio))\n",
        "    return novel_ratio\n",
        "\n",
        "def canonic_smiles(smiles_or_mol):\n",
        "    mol = get_mol(smiles_or_mol)\n",
        "    if mol is None:\n",
        "        return None\n",
        "    return Chem.MolToSmiles(mol)\n",
        "\n",
        "    #Experimental Class for Smiles Enumeration, Iterator and SmilesIterator adapted from Keras 1.2.2"
      ]
    },
    {
      "cell_type": "code",
      "execution_count": null,
      "id": "d06018ce-c6f7-486b-b10d-7094059404c8",
      "metadata": {
        "id": "d06018ce-c6f7-486b-b10d-7094059404c8"
      },
      "outputs": [],
      "source": [
        "def sca_metrics(data, sca):\n",
        "    data['mol_scaf'] = data['SMILES'].apply(lambda x: MurckoScaffoldSmiles(x))\n",
        "    data['fp'] = data['mol_scaf'].apply(lambda x: FingerprintMols.FingerprintMol(Chem.MolFromSmiles(x)))\n",
        "\n",
        "    max_similarities = []\n",
        "    for idx, row in data.iterrows():\n",
        "        max_similarity = 0\n",
        "        for scaffold in sca:\n",
        "            cond_fp = FingerprintMols.FingerprintMol(Chem.MolFromSmiles(scaffold))\n",
        "            similarity = TanimotoSimilarity(row['fp'], cond_fp)\n",
        "            max_similarity = max(max_similarity, similarity)\n",
        "        max_similarities.append(max_similarity)\n",
        "\n",
        "    data['max_similarity'] = max_similarities\n",
        "\n",
        "    num_rows = data.shape[0]\n",
        "    count = len(data[data['max_similarity'] == 1])\n",
        "    print('scafold validity:', count/num_rows*100, '%')\n",
        "\n",
        "    return data\n",
        "\n"
      ]
    },
    {
      "cell_type": "code",
      "execution_count": null,
      "id": "c768f55e-ffcd-4623-84cc-a698d3c1ab50",
      "metadata": {
        "id": "c768f55e-ffcd-4623-84cc-a698d3c1ab50"
      },
      "outputs": [],
      "source": [
        "#import argparse\n",
        "import numpy as np\n",
        "import pandas as pd\n",
        "import re\n",
        "\n",
        "#from sklearn.model_selection import train_test_split\n",
        "\n",
        "import torch\n",
        "import torch.nn as nn\n",
        "from torch.utils.data import Dataset\n",
        "from torch.utils.data import DataLoader\n",
        "from torch.nn import functional as F\n",
        "from torch.cuda.amp import GradScaler\n",
        "\n",
        "#import rdkit\n",
        "#import math\n",
        "\n",
        "import random\n",
        "#from random import randrange\n",
        "from random import shuffle\n",
        "\n",
        "from typing import Optional, List, Tuple\n",
        "\n",
        "#activation function\n",
        "from packaging import version\n",
        "from torch import Tensor\n",
        "\n",
        "import logging\n",
        "logger = logging.getLogger(__name__)\n",
        "\n",
        "\n",
        "# In[2]:\n",
        "\n",
        "\n",
        "from rdkit import Chem\n",
        "from rdkit.Chem import Draw\n",
        "from rdkit.Chem import AllChem\n",
        "from rdkit import RDLogger"
      ]
    },
    {
      "cell_type": "code",
      "execution_count": null,
      "id": "662b1039-aac4-4a11-85f1-b0d6687576a7",
      "metadata": {
        "id": "662b1039-aac4-4a11-85f1-b0d6687576a7"
      },
      "outputs": [],
      "source": [
        "data = pd.read_csv('/home/10714016/gpt/data_processed.csv', index_col = False)\n",
        "data = data.dropna(axis=0).reset_index(drop=True)\n",
        "#data.drop(['SPLIT'], axis=1, inplace=True)"
      ]
    },
    {
      "cell_type": "code",
      "execution_count": null,
      "id": "8fed59c3-43ca-4c49-8bf2-ba364bf8b453",
      "metadata": {
        "id": "8fed59c3-43ca-4c49-8bf2-ba364bf8b453",
        "outputId": "79812e13-d9e7-409f-d993-5eb320b3b385"
      },
      "outputs": [
        {
          "name": "stdout",
          "output_type": "stream",
          "text": [
            "Max_len: 100\n",
            "Max_len_sca: 100\n"
          ]
        }
      ],
      "source": [
        "pattern = \"(\\[[^\\]]+]|<|Br?|Cl?|N|O|S|P|F|I|b|c|n|o|s|p|\\(|\\)|\\.|=|#|-|\\+|\\\\\\\\|\\/|:|~|@|\\?|>|\\*|\\$|\\%[0-9]{2}|[0-9])\"\n",
        "regex = re.compile(pattern)\n",
        "\n",
        "data['sm_len'] = data['SMILES'].apply(lambda x: len(regex.findall(x.strip())))\n",
        "data['sca_len'] = data['scaffold_SMILES'].apply(lambda x: len(regex.findall(x.strip())))\n",
        "\n",
        "max_len = data['sm_len'].max()\n",
        "sca_max_len = data['sca_len'].max()\n",
        "print('Max_len:', max_len)\n",
        "print('Max_len_sca:', sca_max_len)"
      ]
    },
    {
      "cell_type": "code",
      "execution_count": null,
      "id": "b9b25181-b2a3-4a3b-8862-3bd5c4d81292",
      "metadata": {
        "id": "b9b25181-b2a3-4a3b-8862-3bd5c4d81292",
        "outputId": "5449ef6b-1502-463c-907b-74af0387d9b4"
      },
      "outputs": [
        {
          "data": {
            "text/plain": [
              "98"
            ]
          },
          "execution_count": 8,
          "metadata": {},
          "output_type": "execute_result"
        }
      ],
      "source": [
        "#guacamol\n",
        "whole_string = ['#', '%10', '%11', '%12', '(', ')', '-', '1', '2', '3', '4', '5', '6', '7', '8', '9', '=', 'B', 'Br', 'C', 'Cl', 'F', 'I', 'N', 'O', 'P', 'S', '[B-]', '[BH-]', '[BH2-]', '[BH3-]', '[B]', '[C+]', '[C-]', '[CH+]', '[CH-]', '[CH2+]', '[CH2]', '[CH]', '[F+]', '[H]', '[I+]', '[IH2]', '[IH]', '[N+]', '[N-]', '[NH+]', '[NH-]', '[NH2+]', '[NH3+]', '[N]', '[O+]', '[O-]', '[OH+]', '[O]', '[P+]', '[PH+]', '[PH2+]', '[PH]', '[S+]', '[S-]', '[SH+]', '[SH-]', '[SH]', '[Se+]', '[SeH+]', '[SeH]', '[Se]', '[Si-]', '[SiH-]', '[SiH2]', '[SiH]', '[Si]', '[b-]', '[bH-]', '[c+]', '[c-]', '[cH+]', '[cH-]', '[n+]', '[n-]', '[nH+]', '[nH]', '[o+]', '[s+]', '[sH+]', '[se+]', '[se]', 'b', 'c', 'n', 'o', 'p', 's']\n",
        "\n",
        "char_list = sorted(list(set(whole_string)))\n",
        "\n",
        "stoi_dict = {'[PAD]': 0, '[BOS]': 1, '[EOS]': 2, '[MASK]': 3}\n",
        "itos_dict = {}\n",
        "for i, char in enumerate(char_list):\n",
        "    stoi_dict[char] = i + 4\n",
        "\n",
        "itos_dict = {i: char for i, char in enumerate(stoi_dict)}\n",
        "vocab_size = len(stoi_dict)\n",
        "vocab_size"
      ]
    },
    {
      "cell_type": "code",
      "execution_count": null,
      "id": "212fe720-6f25-435c-8605-c678591c0765",
      "metadata": {
        "id": "212fe720-6f25-435c-8605-c678591c0765"
      },
      "outputs": [],
      "source": [
        "class TestDataSet(Dataset):\n",
        "    #molgpt\n",
        "    def __init__(self, data, content, prop=None, aug_prob = 0.5):\n",
        "        chars = sorted(list(set(content)))\n",
        "        data_size, vocab_size = len(data), len(chars)\n",
        "        print('data has %d smiles, %d unique characters.' % (data_size, vocab_size))\n",
        "\n",
        "        self.data = data\n",
        "        self.vocab_size = vocab_size\n",
        "        self.smiles = data['SMILES']\n",
        "        self.scaffold = data['scaffold_SMILES']\n",
        "        #self.prop = prop\n",
        "        if prop is not None:\n",
        "            if isinstance(prop, list):\n",
        "                #a list of properties\n",
        "                self.prop = {p: data[p] for p in prop}\n",
        "            else:\n",
        "                #single property\n",
        "                self.prop = {prop: data[prop]}\n",
        "        else:\n",
        "            self.prop = None\n",
        "\n",
        "    def __len__(self):\n",
        "        return len(self.data)\n",
        "\n",
        "    def __getitem__(self, idx):\n",
        "        smiles = self.smiles.iloc[idx]  # self.prop.iloc[idx, :].values  --> if multiple properties\n",
        "        scaffold = self.scaffold.iloc[idx]\n",
        "        if self.prop is not None:\n",
        "            prop_values = {key: values.iloc[idx] for key, values in self.prop.items()}\n",
        "        else:\n",
        "            prop_values = None\n",
        "\n",
        "        '''sca = scaffold.strip()\n",
        "        sca = sca.strip()\n",
        "        sca = tokenization.tokenize_enc_input(sca)'''\n",
        "        enc_input = scaffold.strip()\n",
        "        enc_input = tokenization.tokenize_enc_input(enc_input)\n",
        "        enc_input_tensor = torch.tensor(enc_input)\n",
        "        #mask = (torch.tensor(enc_input) == stoi_dict['[MASK]']).float()\n",
        "        #mask = (enc_input.clone() == stoi_dict['[MASK]']).float()\n",
        "\n",
        "        #mask = mask.to(torch.float32)\n",
        "        v_prop_tensor = {key: torch.tensor(value) for key, value in prop_values.items()} if prop_values else None\n",
        "        #v_prop_tensor = torch.tensor([prop], dtype = torch.float)\n",
        "        dec_input = smiles.strip()\n",
        "        dec_input = dec_input.strip()\n",
        "        dec_input = tokenization.tokenize_dec_input(dec_input)\n",
        "        dec_input_tensor = torch.tensor(dec_input)\n",
        "\n",
        "        v_output = smiles.strip()\n",
        "        v_output = v_output.strip()\n",
        "        v_output = tokenization.tokenize_v_output(v_output)\n",
        "        v_output_tensor = torch.tensor(v_output)\n",
        "        #v_output_tensor =  v_output_tensor.to(torch.float32)\n",
        "        padding_tensor = (torch.tensor(v_output) != stoi_dict['[PAD]']).float()\n",
        "\n",
        "\n",
        "\n",
        "\n",
        "        return enc_input_tensor, v_prop_tensor, dec_input_tensor, v_output_tensor, padding_tensor"
      ]
    },
    {
      "cell_type": "code",
      "execution_count": null,
      "id": "a60a9997-dfde-4011-bab5-8937ded2c7e4",
      "metadata": {
        "id": "a60a9997-dfde-4011-bab5-8937ded2c7e4"
      },
      "outputs": [],
      "source": [
        "class tokenization:\n",
        "    def tokenize_enc_input(smiles): #for x_tensor & y_tensor\n",
        "        #batch = []\n",
        "        smiles_block = regex.findall(smiles)\n",
        "        tokens = [stoi_dict[s] for s in smiles_block]\n",
        "        #input_ids = mask_input(tokens)\n",
        "        input_ids = tokens\n",
        "\n",
        "        '''if random.random() < 0.5:\n",
        "            input_ids = mask_input(tokens)\n",
        "        else:\n",
        "            #input_ids = generate_inserted_sequence(input_ids, char_list)\n",
        "            while True:\n",
        "                input_tokens = tokens.copy()\n",
        "                input_ids = generate_inserted_sequence(input_tokens, char_list)\n",
        "                m = detokenize_for_input(input_ids, itos_dict)\n",
        "                if get_mol(m) is None:\n",
        "                    break'''\n",
        "        #Paddings\n",
        "        n_pad = max_len + 1 - len(input_ids)\n",
        "        input_ids.extend([0] * n_pad)\n",
        "\n",
        "        # Zero Padding for masked tokens\n",
        "        '''if max_pred > n_pred:\n",
        "            n_pad = max_pred - n_pred\n",
        "            masked_tokens.extend([0] * n_pad)\n",
        "            masked_pos.extend([0] * n_pad)'''\n",
        "            #input_ids_tensor = torch.tensor(dtype=torch.long)\n",
        "        #batch = [input_ids_tensor, masked_tokens, masked_pos]\n",
        "        #return batch\n",
        "        return input_ids\n",
        "    def tokenize_dec_input(smiles):\n",
        "        #batch = []\n",
        "        smiles_block = regex.findall(smiles)\n",
        "        tokens = [stoi_dict[s] for s in smiles_block]\n",
        "        input_ids = [stoi_dict['[BOS]']] + tokens\n",
        "\n",
        "\n",
        "        #Paddings\n",
        "        n_pad = max_len + 2 - len(input_ids)\n",
        "        input_ids.extend([0] * n_pad)\n",
        "\n",
        "            #input_ids_tensor = torch.tensor(dtype=torch.long)\n",
        "        #batch = [input_ids_tensor, masked_tokens, masked_pos]\n",
        "        #return batch\n",
        "        return input_ids\n",
        "    def tokenize_v_output(smiles):\n",
        "        #batch = []\n",
        "        smiles_block = regex.findall(smiles)\n",
        "        tokens = [stoi_dict[s] for s in smiles_block]\n",
        "        input_ids = tokens + [stoi_dict['[EOS]']]\n",
        "\n",
        "        #Paddings\n",
        "        n_pad = max_len + 2 - len(input_ids)\n",
        "        input_ids.extend([0] * n_pad)\n",
        "\n",
        "        return input_ids"
      ]
    },
    {
      "cell_type": "code",
      "execution_count": null,
      "id": "1fe7c801-ba71-4072-ade7-41f17586e0ec",
      "metadata": {
        "id": "1fe7c801-ba71-4072-ade7-41f17586e0ec",
        "outputId": "39a972cc-81e9-4987-e08a-7b8b4335e7e0"
      },
      "outputs": [
        {
          "name": "stdout",
          "output_type": "stream",
          "text": [
            "data has 2408021 smiles, 94 unique characters.\n",
            "data has 1032010 smiles, 94 unique characters.\n"
          ]
        }
      ],
      "source": [
        "from sklearn.model_selection import train_test_split\n",
        "\n",
        "training_proportion = 0.7\n",
        "t_data = data\n",
        "\n",
        "train_data_o, val_data_o = train_test_split(t_data, test_size=1 - training_proportion, random_state=42)\n",
        "\n",
        "train_data = TestDataSet(train_data_o, whole_string,\n",
        "                         prop = ['MW', 'QED', 'SAS', 'TPSA', 'logP'])\n",
        "train_dataloader = DataLoader(train_data, batch_size=256)\n",
        "\n",
        "val_data = TestDataSet(val_data_o, whole_string,\n",
        "                       prop = ['MW', 'QED', 'SAS', 'TPSA', 'logP'])\n",
        "val_dataloader = DataLoader(val_data, batch_size=256)"
      ]
    },
    {
      "cell_type": "code",
      "execution_count": null,
      "id": "b69e6838-7a0e-4d92-906b-78b648e59664",
      "metadata": {
        "id": "b69e6838-7a0e-4d92-906b-78b648e59664"
      },
      "outputs": [],
      "source": [
        "def get_mol(smiles_or_mol):\n",
        "    '''\n",
        "    Loads SMILES/molecule into RDKit's object\n",
        "    '''\n",
        "    if isinstance(smiles_or_mol, str):\n",
        "        if len(smiles_or_mol) == 0:\n",
        "            return None\n",
        "        mol = Chem.MolFromSmiles(smiles_or_mol)\n",
        "        if mol is None:\n",
        "            return None\n",
        "        try:\n",
        "            Chem.SanitizeMol(mol)\n",
        "        except ValueError:\n",
        "            return None\n",
        "        return mol\n",
        "    return smiles_or_mol"
      ]
    },
    {
      "cell_type": "code",
      "execution_count": null,
      "id": "ea5ba1e9-41fc-4676-82ec-51046c33f991",
      "metadata": {
        "id": "ea5ba1e9-41fc-4676-82ec-51046c33f991",
        "outputId": "bc2925b5-2664-4d88-ca97-897ca8326891"
      },
      "outputs": [
        {
          "data": {
            "text/html": [
              "<div>\n",
              "<style scoped>\n",
              "    .dataframe tbody tr th:only-of-type {\n",
              "        vertical-align: middle;\n",
              "    }\n",
              "\n",
              "    .dataframe tbody tr th {\n",
              "        vertical-align: top;\n",
              "    }\n",
              "\n",
              "    .dataframe thead th {\n",
              "        text-align: right;\n",
              "    }\n",
              "</style>\n",
              "<table border=\"1\" class=\"dataframe\">\n",
              "  <thead>\n",
              "    <tr style=\"text-align: right;\">\n",
              "      <th></th>\n",
              "      <th>Unnamed: 0</th>\n",
              "      <th>SMILES</th>\n",
              "      <th>molecule</th>\n",
              "      <th>MW</th>\n",
              "      <th>logP</th>\n",
              "      <th>TPSA</th>\n",
              "      <th>SAS</th>\n",
              "      <th>QED</th>\n",
              "    </tr>\n",
              "  </thead>\n",
              "  <tbody>\n",
              "    <tr>\n",
              "      <th>0</th>\n",
              "      <td>0</td>\n",
              "      <td>N#Cc1ccccc1N1CCN(C(=O)c2cc[nH]c2C#N)CC1</td>\n",
              "      <td>&lt;rdkit.Chem.rdchem.Mol object at 0x7fda588fed50&gt;</td>\n",
              "      <td>305.341</td>\n",
              "      <td>1.72046</td>\n",
              "      <td>86.92</td>\n",
              "      <td>2.573806</td>\n",
              "      <td>0.914878</td>\n",
              "    </tr>\n",
              "    <tr>\n",
              "      <th>1</th>\n",
              "      <td>1</td>\n",
              "      <td>N#Cc1ccccc1N1CCN(C(=O)c2cc[nH]c2)CC1</td>\n",
              "      <td>&lt;rdkit.Chem.rdchem.Mol object at 0x7fda588ff370&gt;</td>\n",
              "      <td>280.331</td>\n",
              "      <td>1.84878</td>\n",
              "      <td>63.13</td>\n",
              "      <td>2.277467</td>\n",
              "      <td>0.912784</td>\n",
              "    </tr>\n",
              "    <tr>\n",
              "      <th>2</th>\n",
              "      <td>2</td>\n",
              "      <td>Cc1[nH]ccc1C(=O)N1CCN(c2ccc([N+](=O)[O-])cc2)CC1</td>\n",
              "      <td>&lt;rdkit.Chem.rdchem.Mol object at 0x7fda588ff3e0&gt;</td>\n",
              "      <td>314.345</td>\n",
              "      <td>2.19372</td>\n",
              "      <td>82.48</td>\n",
              "      <td>2.288017</td>\n",
              "      <td>0.695213</td>\n",
              "    </tr>\n",
              "    <tr>\n",
              "      <th>3</th>\n",
              "      <td>3</td>\n",
              "      <td>N#Cc1ccccc1N1CCN(C(=O)c2cc[nH]c2)CC1</td>\n",
              "      <td>&lt;rdkit.Chem.rdchem.Mol object at 0x7fda588ff450&gt;</td>\n",
              "      <td>280.331</td>\n",
              "      <td>1.84878</td>\n",
              "      <td>63.13</td>\n",
              "      <td>2.277467</td>\n",
              "      <td>0.912784</td>\n",
              "    </tr>\n",
              "    <tr>\n",
              "      <th>4</th>\n",
              "      <td>4</td>\n",
              "      <td>Nc1ccc(N)c(N2CCN(C(=O)c3cc[nH]c3)CC2)c1</td>\n",
              "      <td>&lt;rdkit.Chem.rdchem.Mol object at 0x7fda588ff4c0&gt;</td>\n",
              "      <td>285.351</td>\n",
              "      <td>1.14150</td>\n",
              "      <td>91.38</td>\n",
              "      <td>2.415346</td>\n",
              "      <td>0.721601</td>\n",
              "    </tr>\n",
              "    <tr>\n",
              "      <th>...</th>\n",
              "      <td>...</td>\n",
              "      <td>...</td>\n",
              "      <td>...</td>\n",
              "      <td>...</td>\n",
              "      <td>...</td>\n",
              "      <td>...</td>\n",
              "      <td>...</td>\n",
              "      <td>...</td>\n",
              "    </tr>\n",
              "    <tr>\n",
              "      <th>995</th>\n",
              "      <td>995</td>\n",
              "      <td>N#CC(c1ccccc1)N1CCN(C(=O)c2cc[nH]c2)CC1</td>\n",
              "      <td>&lt;rdkit.Chem.rdchem.Mol object at 0x7fda589ce650&gt;</td>\n",
              "      <td>294.358</td>\n",
              "      <td>2.03738</td>\n",
              "      <td>63.13</td>\n",
              "      <td>2.854336</td>\n",
              "      <td>0.941906</td>\n",
              "    </tr>\n",
              "    <tr>\n",
              "      <th>996</th>\n",
              "      <td>996</td>\n",
              "      <td>N#Cc1ccccc1C1CCN(C(=O)c2cc[nH]c2)CC1</td>\n",
              "      <td>&lt;rdkit.Chem.rdchem.Mol object at 0x7fda589ce6c0&gt;</td>\n",
              "      <td>279.343</td>\n",
              "      <td>2.90618</td>\n",
              "      <td>59.89</td>\n",
              "      <td>2.397690</td>\n",
              "      <td>0.918462</td>\n",
              "    </tr>\n",
              "    <tr>\n",
              "      <th>997</th>\n",
              "      <td>997</td>\n",
              "      <td>Cc1[nH]ccc1C(=O)N1CCN(c2ccccc2O)CC1</td>\n",
              "      <td>&lt;rdkit.Chem.rdchem.Mol object at 0x7fda589ce730&gt;</td>\n",
              "      <td>285.347</td>\n",
              "      <td>1.99112</td>\n",
              "      <td>59.57</td>\n",
              "      <td>2.281961</td>\n",
              "      <td>0.886881</td>\n",
              "    </tr>\n",
              "    <tr>\n",
              "      <th>998</th>\n",
              "      <td>998</td>\n",
              "      <td>N#Cc1ccccc1N1CCN(C(=O)c2cc[nH]c2C#N)CC1</td>\n",
              "      <td>&lt;rdkit.Chem.rdchem.Mol object at 0x7fda589ce7a0&gt;</td>\n",
              "      <td>305.341</td>\n",
              "      <td>1.72046</td>\n",
              "      <td>86.92</td>\n",
              "      <td>2.573806</td>\n",
              "      <td>0.914878</td>\n",
              "    </tr>\n",
              "    <tr>\n",
              "      <th>999</th>\n",
              "      <td>999</td>\n",
              "      <td>Cc1cccc(C(=O)N2CCN(c3ccccc3O)CC2)c1</td>\n",
              "      <td>&lt;rdkit.Chem.rdchem.Mol object at 0x7fda589ce810&gt;</td>\n",
              "      <td>296.370</td>\n",
              "      <td>2.66302</td>\n",
              "      <td>43.78</td>\n",
              "      <td>1.745651</td>\n",
              "      <td>0.926336</td>\n",
              "    </tr>\n",
              "  </tbody>\n",
              "</table>\n",
              "<p>1000 rows × 8 columns</p>\n",
              "</div>"
            ],
            "text/plain": [
              "     Unnamed: 0                                            SMILES  \\\n",
              "0             0           N#Cc1ccccc1N1CCN(C(=O)c2cc[nH]c2C#N)CC1   \n",
              "1             1              N#Cc1ccccc1N1CCN(C(=O)c2cc[nH]c2)CC1   \n",
              "2             2  Cc1[nH]ccc1C(=O)N1CCN(c2ccc([N+](=O)[O-])cc2)CC1   \n",
              "3             3              N#Cc1ccccc1N1CCN(C(=O)c2cc[nH]c2)CC1   \n",
              "4             4           Nc1ccc(N)c(N2CCN(C(=O)c3cc[nH]c3)CC2)c1   \n",
              "..          ...                                               ...   \n",
              "995         995           N#CC(c1ccccc1)N1CCN(C(=O)c2cc[nH]c2)CC1   \n",
              "996         996              N#Cc1ccccc1C1CCN(C(=O)c2cc[nH]c2)CC1   \n",
              "997         997               Cc1[nH]ccc1C(=O)N1CCN(c2ccccc2O)CC1   \n",
              "998         998           N#Cc1ccccc1N1CCN(C(=O)c2cc[nH]c2C#N)CC1   \n",
              "999         999               Cc1cccc(C(=O)N2CCN(c3ccccc3O)CC2)c1   \n",
              "\n",
              "                                             molecule       MW     logP  \\\n",
              "0    <rdkit.Chem.rdchem.Mol object at 0x7fda588fed50>  305.341  1.72046   \n",
              "1    <rdkit.Chem.rdchem.Mol object at 0x7fda588ff370>  280.331  1.84878   \n",
              "2    <rdkit.Chem.rdchem.Mol object at 0x7fda588ff3e0>  314.345  2.19372   \n",
              "3    <rdkit.Chem.rdchem.Mol object at 0x7fda588ff450>  280.331  1.84878   \n",
              "4    <rdkit.Chem.rdchem.Mol object at 0x7fda588ff4c0>  285.351  1.14150   \n",
              "..                                                ...      ...      ...   \n",
              "995  <rdkit.Chem.rdchem.Mol object at 0x7fda589ce650>  294.358  2.03738   \n",
              "996  <rdkit.Chem.rdchem.Mol object at 0x7fda589ce6c0>  279.343  2.90618   \n",
              "997  <rdkit.Chem.rdchem.Mol object at 0x7fda589ce730>  285.347  1.99112   \n",
              "998  <rdkit.Chem.rdchem.Mol object at 0x7fda589ce7a0>  305.341  1.72046   \n",
              "999  <rdkit.Chem.rdchem.Mol object at 0x7fda589ce810>  296.370  2.66302   \n",
              "\n",
              "      TPSA       SAS       QED  \n",
              "0    86.92  2.573806  0.914878  \n",
              "1    63.13  2.277467  0.912784  \n",
              "2    82.48  2.288017  0.695213  \n",
              "3    63.13  2.277467  0.912784  \n",
              "4    91.38  2.415346  0.721601  \n",
              "..     ...       ...       ...  \n",
              "995  63.13  2.854336  0.941906  \n",
              "996  59.89  2.397690  0.918462  \n",
              "997  59.57  2.281961  0.886881  \n",
              "998  86.92  2.573806  0.914878  \n",
              "999  43.78  1.745651  0.926336  \n",
              "\n",
              "[1000 rows x 8 columns]"
            ]
          },
          "execution_count": 43,
          "metadata": {},
          "output_type": "execute_result"
        }
      ],
      "source": [
        "data = pd.read_csv('/home/10714016/gpt/result/combined_data/df/0/mode.csv')\n",
        "data"
      ]
    },
    {
      "cell_type": "code",
      "execution_count": null,
      "id": "9f1f4a9e-d3ee-44e2-8f7a-4ca66b58be89",
      "metadata": {
        "id": "9f1f4a9e-d3ee-44e2-8f7a-4ca66b58be89"
      },
      "outputs": [],
      "source": [
        "sca_cond = ['O=C(c1cc[nH]c1)N1CCN(c2ccccc2)CC1']"
      ]
    },
    {
      "cell_type": "code",
      "execution_count": null,
      "id": "b4c1ab20-9003-46b5-9dab-e0367a528e4d",
      "metadata": {
        "id": "b4c1ab20-9003-46b5-9dab-e0367a528e4d",
        "outputId": "dee24875-05b2-4723-a499-3fc52ad95b26"
      },
      "outputs": [
        {
          "name": "stdout",
          "output_type": "stream",
          "text": [
            "scafold validity: 74.1 %\n"
          ]
        }
      ],
      "source": [
        "data_1 = sca_metrics(data,sca_cond)"
      ]
    },
    {
      "cell_type": "code",
      "execution_count": null,
      "id": "0b2aade0-61c9-4f62-9034-7f26a660cfb2",
      "metadata": {
        "id": "0b2aade0-61c9-4f62-9034-7f26a660cfb2",
        "outputId": "38dee21d-4fde-4fa7-aea2-1c5493327911"
      },
      "outputs": [
        {
          "name": "stdout",
          "output_type": "stream",
          "text": [
            "novelty: 100.000%\n",
            "Unique ratio:  0.997\n",
            "Novelty ratio:  1.0\n"
          ]
        }
      ],
      "source": [
        "canon_smiles = [canonic_smiles(s) for s in data['SMILES']]\n",
        "unique_smiles = list(set(canon_smiles))\n",
        "novel_ratio = check_novelty(unique_smiles, set(train_data_o['SMILES']))   # replace 'source' with 'split' for moses\n",
        "\n",
        "#print(f'Condition: {c}')\n",
        "#print(f'Scaffold: {j}')\n",
        "#print('Valid ratio: ', np.round(len(data)/(512*gen_iter), 3))\n",
        "print('Unique ratio: ', np.round(len(unique_smiles)/len(data), 3))\n",
        "print('Novelty ratio: ', np.round(novel_ratio/100, 3))"
      ]
    },
    {
      "cell_type": "code",
      "execution_count": null,
      "id": "728a5b26-1d61-40c6-8046-1e273c4bd67b",
      "metadata": {
        "id": "728a5b26-1d61-40c6-8046-1e273c4bd67b",
        "outputId": "058984b7-f963-4974-95ad-9da60b309ce4"
      },
      "outputs": [
        {
          "name": "stdout",
          "output_type": "stream",
          "text": [
            "Internal Diversity (IntDivp): 0.7383658099140837\n"
          ]
        }
      ],
      "source": [
        "generated_smiles = data_1['SMILES'].tolist()\n",
        "generated_fps = data_1['fp'].tolist()\n",
        "\n",
        "similarity_matrix = np.zeros((len(generated_smiles), len(generated_smiles)))\n",
        "\n",
        "for i in range(len(generated_smiles)):\n",
        "    for j in range(len(generated_smiles)):\n",
        "        if i != j:\n",
        "            similarity_matrix[i, j] = AllChem.DataStructs.TanimotoSimilarity(generated_fps[i], generated_fps[j])\n",
        "\n",
        "int_div_p = np.mean(np.mean(similarity_matrix, axis=1))\n",
        "\n",
        "print(\"Internal Diversity (IntDivp):\", int_div_p)"
      ]
    },
    {
      "cell_type": "code",
      "execution_count": null,
      "id": "781ce4a1-73eb-4649-b81d-a849b0417110",
      "metadata": {
        "id": "781ce4a1-73eb-4649-b81d-a849b0417110"
      },
      "outputs": [],
      "source": [
        "from rdkit import Chem\n",
        "from rdkit.Chem import AllChem\n",
        "from sklearn.neighbors import KernelDensity\n",
        "import numpy as np\n",
        "\n",
        "reference_smiles = ['CCO', 'CCC', 'CCN']\n",
        "generated_smiles = ['CCO', 'CCCC', 'CCN']\n",
        "\n",
        "reference_fps = [AllChem.GetMorganFingerprintAsBitVect(Chem.MolFromSmiles(smiles), 2) for smiles in reference_smiles]\n",
        "generated_fps = [AllChem.GetMorganFingerprintAsBitVect(Chem.MolFromSmiles(smiles), 2) for smiles in generated_smiles]\n",
        "\n",
        "reference_array = np.array(reference_fps)\n",
        "generated_array = np.array(generated_fps)\n",
        "\n",
        "# Calculate KL Divergence\n",
        "kl_divergence = np.sum(reference_array * np.log(reference_array / generated_array))\n",
        "\n",
        "# Calculate Frechet ChemNet Distance\n",
        "ref_kde = KernelDensity(kernel='gaussian', bandwidth=0.75).fit(reference_array)\n",
        "gen_kde = KernelDensity(kernel='gaussian', bandwidth=0.75).fit(generated_array)\n",
        "\n",
        "ref_samples = ref_kde.sample(1000)\n",
        "gen_samples = gen_kde.sample(1000)\n",
        "\n",
        "frechet_distance = np.sum((ref_samples - gen_samples)**2)\n",
        "\n",
        "# Calculate Internal Diversity (IntDivp)\n",
        "similarity_matrix = np.zeros((len(reference_smiles), len(reference_smiles)))\n",
        "\n",
        "for i in range(len(reference_smiles)):\n",
        "    for j in range(len(reference_smiles)):\n",
        "        similarity_matrix[i, j] = AllChem.DataStructs.TanimotoSimilarity(reference_fps[i], reference_fps[j])\n",
        "\n",
        "int_div_p = np.mean(np.mean(similarity_matrix, axis=1))\n",
        "\n",
        "print(\"KL Divergence:\", kl_divergence)\n",
        "print(\"Frechet ChemNet Distance:\", frechet_distance)\n",
        "print(\"Internal Diversity (IntDivp):\", int_div_p)\n"
      ]
    }
  ],
  "metadata": {
    "kernelspec": {
      "display_name": "Python 3 (ipykernel)",
      "language": "python",
      "name": "python3"
    },
    "language_info": {
      "codemirror_mode": {
        "name": "ipython",
        "version": 3
      },
      "file_extension": ".py",
      "mimetype": "text/x-python",
      "name": "python",
      "nbconvert_exporter": "python",
      "pygments_lexer": "ipython3",
      "version": "3.11.6"
    },
    "colab": {
      "provenance": []
    }
  },
  "nbformat": 4,
  "nbformat_minor": 5
}